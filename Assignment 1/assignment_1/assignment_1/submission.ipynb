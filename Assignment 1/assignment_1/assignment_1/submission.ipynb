{
 "cells": [
  {
   "cell_type": "markdown",
   "id": "b907e209",
   "metadata": {},
   "source": [
    "# Code Submission\n",
    "\n",
    "*Insert your student number and name here*"
   ]
  },
  {
   "cell_type": "code",
   "execution_count": null,
   "id": "4f8b99a2",
   "metadata": {},
   "outputs": [],
   "source": [
    "# import required packages here\n"
   ]
  },
  {
   "cell_type": "code",
   "execution_count": null,
   "id": "23661737",
   "metadata": {},
   "outputs": [],
   "source": [
    "# load the basket.csv file into a pandas DataFrame (df)\n",
    "\n",
    "# Use df.shape to see the number of rows and columns in the df\n"
   ]
  },
  {
   "cell_type": "code",
   "execution_count": null,
   "id": "1610a26d",
   "metadata": {},
   "outputs": [],
   "source": [
    "# Use df.head() to see the first 8 rows of the df\n"
   ]
  },
  {
   "cell_type": "code",
   "execution_count": null,
   "id": "07577f5b",
   "metadata": {},
   "outputs": [],
   "source": [
    "# Set the index of the df to the Transaction_ID column\n",
    "\n",
    "# Use df.head() to see the first 3 rows of the df\n"
   ]
  },
  {
   "cell_type": "code",
   "execution_count": null,
   "id": "e15242e8",
   "metadata": {},
   "outputs": [],
   "source": [
    "# Use the pandas describe method to get an overview of the dataset\n"
   ]
  },
  {
   "cell_type": "code",
   "execution_count": null,
   "id": "17675143",
   "metadata": {},
   "outputs": [],
   "source": [
    "# create a list of lists, where each list contains the items in a given transaction\n",
    "\n",
    "# view the first transaction in the list\n"
   ]
  },
  {
   "cell_type": "code",
   "execution_count": null,
   "id": "7f48d21e",
   "metadata": {},
   "outputs": [],
   "source": [
    "# from your list of lists, create a flattened list that contains all items purchased\n",
    "\n",
    "# view the legnth of the list\n"
   ]
  },
  {
   "cell_type": "code",
   "execution_count": null,
   "id": "b7e11c7f",
   "metadata": {},
   "outputs": [],
   "source": [
    "# create a list of unique items from the flattened list\n",
    "\n",
    "# remove any elements that items of interest (like empty strings or nan values)\n",
    "\n",
    "# print out how many unique items we have"
   ]
  },
  {
   "cell_type": "code",
   "execution_count": null,
   "id": "649fea7c",
   "metadata": {},
   "outputs": [],
   "source": [
    "# generate the itemset permutations up to 2-itemsets\n",
    "\n",
    "# print out the number of rules\n",
    "\n",
    "# print some of the elements of the list of rules\n"
   ]
  },
  {
   "cell_type": "code",
   "execution_count": null,
   "id": "6926947d",
   "metadata": {},
   "outputs": [],
   "source": [
    "# generate the frequency counts for each unique item in the dataset\n",
    "\n",
    "# show the most common\n"
   ]
  },
  {
   "cell_type": "code",
   "execution_count": null,
   "id": "2b324052",
   "metadata": {},
   "outputs": [],
   "source": [
    "# one-hot encode the data and show the first 5 rows of the resulting df\n",
    "# don't forget to drop the 'nan' value\n",
    "\n",
    "\n",
    "\n"
   ]
  },
  {
   "cell_type": "code",
   "execution_count": null,
   "id": "e8c01e86",
   "metadata": {},
   "outputs": [],
   "source": [
    "# Generate frequent itemsets with a minimum support of 0.5%\n",
    "\n",
    "# view the itemsets sorted by most frequent"
   ]
  },
  {
   "cell_type": "markdown",
   "id": "35bacd38",
   "metadata": {},
   "source": [
    "How many itemsets are generated for the following support thresholds?:\n",
    "* 0.1%\n",
    "* 0.5%\n",
    "* 1%\n",
    "* 10%"
   ]
  },
  {
   "cell_type": "code",
   "execution_count": null,
   "id": "74c99d64",
   "metadata": {},
   "outputs": [],
   "source": [
    "# generate association rules with a confidence threshold of 10%\n",
    "\n",
    "# how many rules are generated?\n"
   ]
  },
  {
   "cell_type": "code",
   "execution_count": null,
   "id": "3484d13d",
   "metadata": {},
   "outputs": [],
   "source": [
    "# print out the rules sorted by lift\n"
   ]
  }
 ],
 "metadata": {
  "kernelspec": {
   "display_name": "Python 3 (ipykernel)",
   "language": "python",
   "name": "python3"
  },
  "language_info": {
   "codemirror_mode": {
    "name": "ipython",
    "version": 3
   },
   "file_extension": ".py",
   "mimetype": "text/x-python",
   "name": "python",
   "nbconvert_exporter": "python",
   "pygments_lexer": "ipython3",
   "version": "3.10.9"
  }
 },
 "nbformat": 4,
 "nbformat_minor": 5
}
